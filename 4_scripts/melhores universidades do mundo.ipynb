{
 "cells": [
  {
   "cell_type": "code",
   "execution_count": 1,
   "metadata": {},
   "outputs": [],
   "source": [
    "import pandas as pd\n",
    "from selenium import  webdriver\n",
    "from selenium.webdriver.common.by import By\n",
    "import sqlalchemy as db\n",
    "\n",
    "\n"
   ]
  },
  {
   "cell_type": "code",
   "execution_count": 2,
   "metadata": {},
   "outputs": [],
   "source": [
    "#pip install sqlalchemy"
   ]
  },
  {
   "cell_type": "code",
   "execution_count": 3,
   "metadata": {},
   "outputs": [],
   "source": [
    "navegador = webdriver.Chrome()"
   ]
  },
  {
   "cell_type": "code",
   "execution_count": 4,
   "metadata": {},
   "outputs": [],
   "source": [
    "navegador.get('https://pt.wikipedia.org/wiki/Lista_das_melhores_universidades_do_mundo')"
   ]
  },
  {
   "cell_type": "code",
   "execution_count": 5,
   "metadata": {},
   "outputs": [],
   "source": [
    "posicao = navegador.find_element(By.XPATH,'//*[@id=\"mw-content-text\"]/div[1]/table[1]/tbody/tr[1]/td[1]').text\n",
    "nome = navegador.find_element(By.XPATH,'//*[@id=\"mw-content-text\"]/div[1]/table[1]/thead/tr/th[2]').text\n",
    "pais = navegador.find_element(By.XPATH,'//*[@id=\"mw-content-text\"]/div[1]/table[1]/thead/tr/th[3]').text\n",
    "pontos = navegador.find_element(By.XPATH,'//*[@id=\"mw-content-text\"]/div[1]/table[1]/thead/tr/th[4]').text\n",
    "tipoinstituicao = navegador.find_element(By.XPATH,'//*[@id=\"mw-content-text\"]/div[1]/table[1]/thead/tr/th[5]').text"
   ]
  },
  {
   "cell_type": "code",
   "execution_count": 6,
   "metadata": {},
   "outputs": [
    {
     "name": "stdout",
     "output_type": "stream",
     "text": [
      "1\n",
      "Nome\n",
      "País\n",
      "Pontos\n",
      "Tipo de instituição\n"
     ]
    }
   ],
   "source": [
    "print(posicao)\n",
    "print(nome)\n",
    "print(pais)\n",
    "print(pontos)\n",
    "print(tipoinstituicao)"
   ]
  },
  {
   "cell_type": "code",
   "execution_count": 7,
   "metadata": {},
   "outputs": [
    {
     "name": "stdout",
     "output_type": "stream",
     "text": [
      "['1', '2', '3', '4', '5', '6', '7', '8', '9', '10', '11', '12', '13', '14', '15', '16', '17', '18', '19', '20', '21', '22', '23', '24', '24', '26', '27', '28', '29', '30', '31', '32', '33', '34', '35', '36', '37', '38', '39', '40', '41', '42', '43', '44', '45', '46', '47', '48', '48', '50', '51', '52', '53', '54', '55', '56', '57', '58', '59', '60', '61', '62', '63', '64', '65', '66', '67', '68', '69', '69', '71', '71', '73', '74', '74', '76', '77', '78', '79', '80', '80', '80', '83', '84', '85', '85', '85', '88', '88', '90', '91', '91', '93', '93', '95', '95', '97', '98', '99', '100']\n"
     ]
    }
   ],
   "source": [
    "lista_posicao = []\n",
    "for i in range(1, 101):\n",
    "    posicao = navegador.find_element(By.XPATH,'//*[@id=\"mw-content-text\"]/div[1]/table[1]/tbody/tr['+str(i)+']/td[1]').text\n",
    "    lista_posicao.append(posicao)\n",
    "print(lista_posicao)"
   ]
  },
  {
   "cell_type": "code",
   "execution_count": 8,
   "metadata": {},
   "outputs": [
    {
     "name": "stdout",
     "output_type": "stream",
     "text": [
      "['Universidade Harvard', 'Universidade Stanford', 'Universidade de Cambridge', 'Instituto de Tecnologia de Massachussetes', 'Universidade da Califórnia - Berkeley', 'Universidade Princeton', 'Universidade de Oxford', 'Universidade Columbia', 'Instituto de Tecnologia da Califórnia', 'Universidade de Chicago', 'Universidade Yale', 'Universidade da Califórnia - Los Angeles', 'Universidade de Washington', 'Universidade Cornell', 'Universidade da Califórnia - San Diego', 'Colégio Universitário de Londres', 'Universidade da Pensilvânia', 'Universidade Johns Hopkins', 'Instituto Federal de Tecnologia de Zurique', 'Universidade de Washington - St. Louis', 'Universidade da Califórnia - San Francisco', 'Universidade do Noroeste', 'Universidade de Toronto', 'Universidade de Tóquio', 'Universidade de Michigan - Ann Arbor', 'Universidade Duke', 'Colégio Imperial de Londres', 'Universidade do Wisconsin-Madison', 'Universidade de Nova Iorque', 'Universidade de Copenhague', 'Universidade da Colúmbia Britânica', 'Universidade de Edimburgo', 'Universidade da Carolina do Norte - Chapel Hill', 'Universidade de Minnesota - Twin Cities', 'Universidade de Quioto', 'Universidade Rockefeller', 'Universidade de Illinois em Urbana-Champaign', 'Universidade de Manchester', 'Universidade de Melbourne', 'Universidade Pierre e Marie Curie', 'Universidade Paris-Sul', 'Universidade de Heidelberg Ruprecht Karl', 'Universidade do Colorado - Boulder', 'Instituto Karolinska', 'Universidade da Califórnia - Santa Barbara', 'Colégio do Rei de Londres', 'Universidade de Utrecht', 'Centro Médico do Sudoeste da Universidade do Texas - Dallas', 'Universidade Tsinghua', 'Universidade Técnica de Munique', 'Universidade do Texas - Austin', 'Universidade Vanderbilt', 'Universidade de Maryland - College Park', 'Universidade do Sul da Califórnia', 'Universidade de Queensland', 'Universidade de Helsínquia', 'Universidade Luís Maximiliano de Munique', 'Universidade de Zurique', 'Universidade de Groninga', 'Universidade de Genebra', 'Universidade de Bristol', 'Universidade de Oslo', 'Universidade de Uppsala', 'Universidade da Califórnia - Irvine', 'Universidade de Aarhus', 'Universidade McMaster', 'Universidade McGill', 'Universidade de Pittsburgh', 'Escola Normal Superior de Paris', 'Universidade de Gante', 'Mayo Medical School', 'Universidade de Pequim', 'Universidade Erasmo de Roterdã', 'Universidade Rice', 'Universidade de Estocolmo', 'Escola Politécnica Federal de Lausana', 'Universidade de Purdue - West Lafayette', 'Universidade Monash', 'Universidade Rutgers', 'Universidade de Boston', 'Universidade Carnegie Mellon', 'Universidade Estadual de Ohio - Columbus', 'Universidade de Sydney', 'Universidade de Nagoia', 'Instituto de Tecnologia da Geórgia', 'Universidade Estadual da Pensilvânia - University Park', 'Universidade da Califórnia - Davis', 'Universidade de Leida', 'Universidade da Flórida', 'Universidade Católica de Lovaina', 'Universidade da Austrália Ocidental', 'Universidade Nacional de Singapura', 'Universidade Estatal de Moscovo', 'Instituto de Tecnologia de Israel', 'Universidade de Basileia', 'Universidade Jorge Augusto de Gotinga', 'Universidade Nacional Australiana', 'Universidade da Califórnia - Santa Cruz', 'Universidade de Cardife', 'Universidade do Arizona']\n"
     ]
    }
   ],
   "source": [
    "lista_nome = []\n",
    "for i in range(1, 101):\n",
    "    nome = navegador.find_element(By.XPATH, '//*[@id=\"mw-content-text\"]/div[1]/table[1]/tbody/tr['+str(i)+']/td[2]').text\n",
    "    lista_nome.append(nome)\n",
    "print(lista_nome)\n",
    "    "
   ]
  },
  {
   "cell_type": "code",
   "execution_count": 9,
   "metadata": {},
   "outputs": [
    {
     "name": "stdout",
     "output_type": "stream",
     "text": [
      "[' Estados Unidos', ' Estados Unidos', ' Reino Unido', ' Estados Unidos', ' Estados Unidos', ' Estados Unidos', ' Reino Unido', ' Estados Unidos', ' Estados Unidos', ' Estados Unidos', ' Estados Unidos', ' Estados Unidos', ' Estados Unidos', ' Estados Unidos', ' Estados Unidos', ' Reino Unido', ' Estados Unidos', ' Estados Unidos', 'Suíça', ' Estados Unidos', ' Estados Unidos', ' Estados Unidos', ' Canadá', ' Japão', ' Estados Unidos', ' Estados Unidos', ' Reino Unido', ' Estados Unidos', ' Estados Unidos', ' Dinamarca', ' Canadá', ' Reino Unido', ' Estados Unidos', ' Estados Unidos', ' Japão', ' Estados Unidos', ' Estados Unidos', ' Reino Unido', ' Austrália', ' França', ' França', ' Alemanha', ' Estados Unidos', ' Suécia', ' Estados Unidos', ' Reino Unido', ' Países Baixos', ' Estados Unidos', ' China', ' Alemanha', ' Estados Unidos', ' Estados Unidos', ' Estados Unidos', ' Estados Unidos', ' Austrália', ' Finlândia', ' Alemanha', 'Suíça', ' Países Baixos', 'Suíça', ' Reino Unido', ' Noruega', ' Suécia', ' Estados Unidos', ' Dinamarca', ' Canadá', ' Canadá', ' Estados Unidos', ' França', ' Países Baixos', ' Estados Unidos', ' China', ' Países Baixos', ' Estados Unidos', ' Suécia', 'Suíça', ' Estados Unidos', ' Austrália', ' Estados Unidos', ' Estados Unidos', ' Estados Unidos', ' Estados Unidos', ' Austrália', ' Japão', ' Estados Unidos', ' Estados Unidos', ' Estados Unidos', ' Países Baixos', ' Estados Unidos', ' Bélgica', ' Austrália', 'Singapura', ' Rússia', ' Israel', 'Suíça', ' Alemanha', ' Austrália', ' Estados Unidos', ' Reino Unido', ' Estados Unidos']\n"
     ]
    }
   ],
   "source": [
    "lista_pais = []\n",
    "for i in range(1, 101):\n",
    "    pais = navegador.find_element(By.XPATH, '//*[@id=\"mw-content-text\"]/div[1]/table[1]/tbody/tr['+str(i)+']/td[3]').text\n",
    "    lista_pais.append(pais)\n",
    "print(lista_pais)"
   ]
  },
  {
   "cell_type": "code",
   "execution_count": 10,
   "metadata": {},
   "outputs": [
    {
     "name": "stdout",
     "output_type": "stream",
     "text": [
      "['100.0', '76.5', '70.9', '70.4', '69.1', '61.1', '60.1', '58.8', '57.3', '53.9', '52.8', '52.5', '50.3', '49.6', '49.5', '47.1', '46.0', '45.7', '44.1', '43.3', '42.4', '41.9', '41.6', '41.5', '41.5', '41.0', '40.9', '39.7', '38.6', '38.5', '37.7', '37.0', '36.9', '36.8', '36.7', '36.6', '36.2', '36.2', '35.9', '35.5', '35.0', '34.8', '34.7', '33.3', '33.2', '33.1', '33.0', '32.8', '32.8', '32.7', '32.5', '32.0', '31.8', '31.7', '31.6', '31.5', '31.4', '31.3', '31.1', '31.0', '30.1', '29.9', '29.8', '29.4', '29.1', '29.0', '28.9', '28.7', '28.6', '28.6', '28.5', '28.5', '28.4', '28.2', '28.2', '28.1', '28.0', '27.9', '27.8', '27.7', '27.7', '27.7', '27.5', '27.2', '27.1', '27.1', '27.1', '27.0', '27.0', '26.9', '26.8', '26.8', '26.6', '26.6', '26.3', '26.3', '26.1', '26.0', '25.9', '25.9']\n"
     ]
    }
   ],
   "source": [
    "lista_pontos = []\n",
    "for i in range(1, 101):\n",
    "    pontos = navegador.find_element(By.XPATH, '//*[@id=\"mw-content-text\"]/div[1]/table[1]/tbody/tr['+str(i)+']/td[4]').text\n",
    "    lista_pontos.append(pontos)\n",
    "print(lista_pontos)"
   ]
  },
  {
   "cell_type": "code",
   "execution_count": 11,
   "metadata": {},
   "outputs": [
    {
     "name": "stdout",
     "output_type": "stream",
     "text": [
      "['Privada', 'Privada', 'Pública', 'Privada', 'Pública', 'Privada', 'Pública', 'Privada', 'Privada', 'Privada', 'Privada', 'Pública', 'Pública', 'Privada', 'Pública', 'Pública', 'Privada', 'Privada', 'Pública', 'Pública', 'Pública', 'Privada', 'Pública', 'Pública', 'Pública', 'Privada', 'Pública', 'Pública', 'Privada', 'Pública', 'Pública', 'Pública', 'Pública', 'Privada', 'Pública', 'Privada', 'Pública', 'Pública', 'Pública', 'Pública', 'Pública', 'Pública', 'Pública', 'Pública', 'Pública', 'Pública', 'Pública', 'Pública', 'Pública', 'Pública', 'Pública', 'Privada', 'Pública', 'Privada', 'Pública', 'Pública', 'Pública', 'Pública', 'Pública', 'Pública', 'Pública', 'Pública', 'Pública', 'Pública', 'Pública', 'Pública', 'Pública', 'Pública', 'Pública', 'Pública', 'Privada', 'Pública', 'Privada', 'Privada', 'Pública', 'Pública', 'Privada', 'Privada', 'Pública', 'Privada', 'Privada', 'Pública', 'Pública', 'Pública', 'Pública', 'Pública', 'Pública', 'Pública', 'Pública', 'Privada', 'Pública', 'Privada', 'Pública', 'Pública', 'Pública', 'Pública', 'Pública', 'Pública', 'Pública', 'Pública']\n"
     ]
    }
   ],
   "source": [
    "lista_tipoinstituicao = []\n",
    "for i in range(1, 101):\n",
    "    tipoinstituicao = navegador.find_element(By.XPATH, '//*[@id=\"mw-content-text\"]/div[1]/table[1]/tbody/tr['+str(i)+']/td[5]').text\n",
    "    lista_tipoinstituicao.append(tipoinstituicao)\n",
    "print(lista_tipoinstituicao)"
   ]
  },
  {
   "cell_type": "code",
   "execution_count": 12,
   "metadata": {},
   "outputs": [
    {
     "data": {
      "text/html": [
       "<div>\n",
       "<style scoped>\n",
       "    .dataframe tbody tr th:only-of-type {\n",
       "        vertical-align: middle;\n",
       "    }\n",
       "\n",
       "    .dataframe tbody tr th {\n",
       "        vertical-align: top;\n",
       "    }\n",
       "\n",
       "    .dataframe thead th {\n",
       "        text-align: right;\n",
       "    }\n",
       "</style>\n",
       "<table border=\"1\" class=\"dataframe\">\n",
       "  <thead>\n",
       "    <tr style=\"text-align: right;\">\n",
       "      <th></th>\n",
       "      <th>Posição</th>\n",
       "      <th>Nome da Instituição</th>\n",
       "      <th>País</th>\n",
       "      <th>Pontos</th>\n",
       "      <th>Tipo de Instituição</th>\n",
       "    </tr>\n",
       "  </thead>\n",
       "  <tbody>\n",
       "    <tr>\n",
       "      <th>0</th>\n",
       "      <td>1</td>\n",
       "      <td>Universidade Harvard</td>\n",
       "      <td>Estados Unidos</td>\n",
       "      <td>100.0</td>\n",
       "      <td>Privada</td>\n",
       "    </tr>\n",
       "    <tr>\n",
       "      <th>1</th>\n",
       "      <td>2</td>\n",
       "      <td>Universidade Stanford</td>\n",
       "      <td>Estados Unidos</td>\n",
       "      <td>76.5</td>\n",
       "      <td>Privada</td>\n",
       "    </tr>\n",
       "    <tr>\n",
       "      <th>2</th>\n",
       "      <td>3</td>\n",
       "      <td>Universidade de Cambridge</td>\n",
       "      <td>Reino Unido</td>\n",
       "      <td>70.9</td>\n",
       "      <td>Pública</td>\n",
       "    </tr>\n",
       "    <tr>\n",
       "      <th>3</th>\n",
       "      <td>4</td>\n",
       "      <td>Instituto de Tecnologia de Massachussetes</td>\n",
       "      <td>Estados Unidos</td>\n",
       "      <td>70.4</td>\n",
       "      <td>Privada</td>\n",
       "    </tr>\n",
       "    <tr>\n",
       "      <th>4</th>\n",
       "      <td>5</td>\n",
       "      <td>Universidade da Califórnia - Berkeley</td>\n",
       "      <td>Estados Unidos</td>\n",
       "      <td>69.1</td>\n",
       "      <td>Pública</td>\n",
       "    </tr>\n",
       "    <tr>\n",
       "      <th>...</th>\n",
       "      <td>...</td>\n",
       "      <td>...</td>\n",
       "      <td>...</td>\n",
       "      <td>...</td>\n",
       "      <td>...</td>\n",
       "    </tr>\n",
       "    <tr>\n",
       "      <th>95</th>\n",
       "      <td>95</td>\n",
       "      <td>Universidade Jorge Augusto de Gotinga</td>\n",
       "      <td>Alemanha</td>\n",
       "      <td>26.3</td>\n",
       "      <td>Pública</td>\n",
       "    </tr>\n",
       "    <tr>\n",
       "      <th>96</th>\n",
       "      <td>97</td>\n",
       "      <td>Universidade Nacional Australiana</td>\n",
       "      <td>Austrália</td>\n",
       "      <td>26.1</td>\n",
       "      <td>Pública</td>\n",
       "    </tr>\n",
       "    <tr>\n",
       "      <th>97</th>\n",
       "      <td>98</td>\n",
       "      <td>Universidade da Califórnia - Santa Cruz</td>\n",
       "      <td>Estados Unidos</td>\n",
       "      <td>26.0</td>\n",
       "      <td>Pública</td>\n",
       "    </tr>\n",
       "    <tr>\n",
       "      <th>98</th>\n",
       "      <td>99</td>\n",
       "      <td>Universidade de Cardife</td>\n",
       "      <td>Reino Unido</td>\n",
       "      <td>25.9</td>\n",
       "      <td>Pública</td>\n",
       "    </tr>\n",
       "    <tr>\n",
       "      <th>99</th>\n",
       "      <td>100</td>\n",
       "      <td>Universidade do Arizona</td>\n",
       "      <td>Estados Unidos</td>\n",
       "      <td>25.9</td>\n",
       "      <td>Pública</td>\n",
       "    </tr>\n",
       "  </tbody>\n",
       "</table>\n",
       "<p>100 rows × 5 columns</p>\n",
       "</div>"
      ],
      "text/plain": [
       "   Posição                        Nome da Instituição             País Pontos  \\\n",
       "0        1                       Universidade Harvard   Estados Unidos  100.0   \n",
       "1        2                      Universidade Stanford   Estados Unidos   76.5   \n",
       "2        3                  Universidade de Cambridge      Reino Unido   70.9   \n",
       "3        4  Instituto de Tecnologia de Massachussetes   Estados Unidos   70.4   \n",
       "4        5      Universidade da Califórnia - Berkeley   Estados Unidos   69.1   \n",
       "..     ...                                        ...              ...    ...   \n",
       "95      95      Universidade Jorge Augusto de Gotinga         Alemanha   26.3   \n",
       "96      97          Universidade Nacional Australiana        Austrália   26.1   \n",
       "97      98    Universidade da Califórnia - Santa Cruz   Estados Unidos   26.0   \n",
       "98      99                    Universidade de Cardife      Reino Unido   25.9   \n",
       "99     100                    Universidade do Arizona   Estados Unidos   25.9   \n",
       "\n",
       "   Tipo de Instituição  \n",
       "0              Privada  \n",
       "1              Privada  \n",
       "2              Pública  \n",
       "3              Privada  \n",
       "4              Pública  \n",
       "..                 ...  \n",
       "95             Pública  \n",
       "96             Pública  \n",
       "97             Pública  \n",
       "98             Pública  \n",
       "99             Pública  \n",
       "\n",
       "[100 rows x 5 columns]"
      ]
     },
     "execution_count": 12,
     "metadata": {},
     "output_type": "execute_result"
    }
   ],
   "source": [
    "df = pd.DataFrame(lista_posicao, columns=['Posição'])\n",
    "df['Nome da Instituição'] = lista_nome\n",
    "df['País'] = lista_pais\n",
    "df['Pontos'] = lista_pontos\n",
    "df['Tipo de Instituição'] = lista_tipoinstituicao\n",
    "df\n",
    "\n",
    "\n"
   ]
  },
  {
   "cell_type": "code",
   "execution_count": 13,
   "metadata": {},
   "outputs": [],
   "source": [
    "#df.to_csv('dados_originais.csv', sep=';', index=False)\n",
    "df.to_csv('../0_bases_originais/dados_originais', sep=';', index=False, encoding='UTF-8')"
   ]
  },
  {
   "cell_type": "code",
   "execution_count": 14,
   "metadata": {},
   "outputs": [],
   "source": [
    "df.to_csv('../1_bases_tratadas/dados_tratados', sep=';', index=False, encoding='UTF-8')"
   ]
  },
  {
   "cell_type": "code",
   "execution_count": 15,
   "metadata": {},
   "outputs": [],
   "source": [
    "df.to_json('../0_bases_originais/dados_originais.json')"
   ]
  },
  {
   "cell_type": "code",
   "execution_count": 16,
   "metadata": {},
   "outputs": [],
   "source": [
    "engine = db.create_engine(\"sqlite:///banco_univerdidades.db\", echo=True)\n",
    "conn = engine.connect()\n"
   ]
  },
  {
   "cell_type": "code",
   "execution_count": 17,
   "metadata": {},
   "outputs": [
    {
     "name": "stdout",
     "output_type": "stream",
     "text": [
      "2024-05-26 19:45:17,816 INFO sqlalchemy.engine.Engine BEGIN (implicit)\n",
      "2024-05-26 19:45:17,824 INFO sqlalchemy.engine.Engine PRAGMA main.table_info(\"../0_bases_originais/banco_univerdidades.db\")\n",
      "2024-05-26 19:45:17,825 INFO sqlalchemy.engine.Engine [raw sql] ()\n",
      "2024-05-26 19:45:17,827 INFO sqlalchemy.engine.Engine PRAGMA temp.table_info(\"../0_bases_originais/banco_univerdidades.db\")\n",
      "2024-05-26 19:45:17,828 INFO sqlalchemy.engine.Engine [raw sql] ()\n",
      "2024-05-26 19:45:17,829 INFO sqlalchemy.engine.Engine \n",
      "CREATE TABLE \"../0_bases_originais/banco_univerdidades.db\" (\n",
      "\t\"index\" BIGINT, \n",
      "\t\"Posição\" TEXT, \n",
      "\t\"Nome da Instituição\" TEXT, \n",
      "\t\"País\" TEXT, \n",
      "\t\"Pontos\" TEXT, \n",
      "\t\"Tipo de Instituição\" TEXT\n",
      ")\n",
      "\n",
      "\n",
      "2024-05-26 19:45:17,830 INFO sqlalchemy.engine.Engine [no key 0.00050s] ()\n",
      "2024-05-26 19:45:17,840 INFO sqlalchemy.engine.Engine CREATE INDEX \"ix_../0_bases_originais/banco_univerdidades.db_index\" ON \"../0_bases_originais/banco_univerdidades.db\" (\"index\")\n",
      "2024-05-26 19:45:17,841 INFO sqlalchemy.engine.Engine [no key 0.00091s] ()\n",
      "2024-05-26 19:45:17,854 INFO sqlalchemy.engine.Engine INSERT INTO \"../0_bases_originais/banco_univerdidades.db\" (\"index\", \"Posição\", \"Nome da Instituição\", \"País\", \"Pontos\", \"Tipo de Instituição\") VALUES (?, ?, ?, ?, ?, ?)\n",
      "2024-05-26 19:45:17,855 INFO sqlalchemy.engine.Engine [generated in 0.00141s] [(0, '1', 'Universidade Harvard', ' Estados Unidos', '100.0', 'Privada'), (1, '2', 'Universidade Stanford', ' Estados Unidos', '76.5', 'Privada'), (2, '3', 'Universidade de Cambridge', ' Reino Unido', '70.9', 'Pública'), (3, '4', 'Instituto de Tecnologia de Massachussetes', ' Estados Unidos', '70.4', 'Privada'), (4, '5', 'Universidade da Califórnia - Berkeley', ' Estados Unidos', '69.1', 'Pública'), (5, '6', 'Universidade Princeton', ' Estados Unidos', '61.1', 'Privada'), (6, '7', 'Universidade de Oxford', ' Reino Unido', '60.1', 'Pública'), (7, '8', 'Universidade Columbia', ' Estados Unidos', '58.8', 'Privada')  ... displaying 10 of 100 total bound parameter sets ...  (98, '99', 'Universidade de Cardife', ' Reino Unido', '25.9', 'Pública'), (99, '100', 'Universidade do Arizona', ' Estados Unidos', '25.9', 'Pública')]\n",
      "2024-05-26 19:45:17,858 INFO sqlalchemy.engine.Engine COMMIT\n"
     ]
    },
    {
     "data": {
      "text/plain": [
       "100"
      ]
     },
     "execution_count": 17,
     "metadata": {},
     "output_type": "execute_result"
    }
   ],
   "source": [
    "#df.to_sql('../0_bases_originais/banco_univerdidades.db', con=conn)"
   ]
  }
 ],
 "metadata": {
  "kernelspec": {
   "display_name": "Python 3",
   "language": "python",
   "name": "python3"
  },
  "language_info": {
   "codemirror_mode": {
    "name": "ipython",
    "version": 3
   },
   "file_extension": ".py",
   "mimetype": "text/x-python",
   "name": "python",
   "nbconvert_exporter": "python",
   "pygments_lexer": "ipython3",
   "version": "3.12.3"
  }
 },
 "nbformat": 4,
 "nbformat_minor": 2
}
